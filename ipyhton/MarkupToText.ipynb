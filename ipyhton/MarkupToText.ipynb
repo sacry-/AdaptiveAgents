{
 "metadata": {
  "name": "",
  "signature": "sha256:1ec5d3b70ac13e938aaad6e899d90d383f6bdab18e43ecef24f1a976b647e630"
 },
 "nbformat": 3,
 "nbformat_minor": 0,
 "worksheets": [
  {
   "cells": [
    {
     "cell_type": "markdown",
     "metadata": {},
     "source": [
      "Finding out how to extract raw text from Wikimedia markup"
     ]
    },
    {
     "cell_type": "code",
     "collapsed": false,
     "input": [
      "!curl -XGET \"http://localhost:9200/_count?title=*\""
     ],
     "language": "python",
     "metadata": {},
     "outputs": [
      {
       "output_type": "stream",
       "stream": "stdout",
       "text": [
        "{\"count\":1,\"_shards\":{\"total\":5,\"successful\":5,\"failed\":0}}"
       ]
      }
     ],
     "prompt_number": 2
    },
    {
     "cell_type": "code",
     "collapsed": false,
     "input": [
      "!curl -XGET \"http://localhost:9200/_cat/indices?v\""
     ],
     "language": "python",
     "metadata": {},
     "outputs": [
      {
       "output_type": "stream",
       "stream": "stdout",
       "text": [
        "health index   pri rep docs.count docs.deleted store.size pri.store.size \r\n",
        "yellow biology   5   1          1            0      5.3kb          5.3kb \r\n"
       ]
      }
     ],
     "prompt_number": 3
    },
    {
     "cell_type": "code",
     "collapsed": true,
     "input": [
      "# !curl -XDELETE \"http://localhost:9200/*\""
     ],
     "language": "python",
     "metadata": {},
     "outputs": [],
     "prompt_number": 6
    },
    {
     "cell_type": "markdown",
     "metadata": {},
     "source": [
      "A glimpse of the markup text in \"biologist.txt\""
     ]
    },
    {
     "cell_type": "code",
     "collapsed": false,
     "input": [
      "!cat biologist.txt | head -n 5 | tail -n 5"
     ],
     "language": "python",
     "metadata": {},
     "outputs": [
      {
       "output_type": "stream",
       "stream": "stdout",
       "text": [
        "{{multiple issues|original research=August 2009|refimprove=March 2012|weasel=August 2009}}\r\n",
        "[[File:Mwb in lab-2.jpg|thumb|[[Martinus Willem Beijerinck]], a botanist and microbiologist.]]\r\n",
        "A '''biologist''', or '''biological scientist''', is a [[scientist]] who studies [[life|living]] [[organism]]s, often in the context of their environment. Biologists involved in fundamental research attempt to explore and further explain the underlying mechanisms that govern the functioning of organisms. Biologists involved in applied research attempt to develop or improve more specific processes and understanding, in fields such as [[medicine]], [[industry]] and [[agriculture]].\r\n",
        "\r\n",
        "While \"biologist\" can apply to any scientist studying [[biology]], most biologists research and specialise in specific fields. In this way, biologists investigate large-scale organism interactions ([[ecology]]), whole [[multicellular organism]]s, [[Organ (anatomy)|organs]], [[Tissue (biology)|tissues]], [[Cell (biology)|cells]], and small-scale cellular and [[Molecular genetics|molecular]] processes. Other biologists study less direct aspects of life, such as [[Phylogenetics|phylogeny]] and [[evolution]]. \r\n"
       ]
      }
     ],
     "prompt_number": 4
    },
    {
     "cell_type": "code",
     "collapsed": false,
     "input": [
      "%load \"../wiki_parse/clean_and_parse.py\""
     ],
     "language": "python",
     "metadata": {},
     "outputs": [],
     "prompt_number": 4
    },
    {
     "cell_type": "code",
     "collapsed": false,
     "input": [
      "from nltk import clean_html\n",
      "\n",
      "from dewiki.parser import Parser # https://github.com/daddyd/dewiki.git\n",
      "import re\n",
      "import time\n",
      "from bs4 import BeautifulSoup\n",
      "\n",
      "\n",
      "def remove_curly_braces(s):\n",
      "  buf = []\n",
      "  c = 0\n",
      "  for char in s:\n",
      "    if char == '{':\n",
      "      c += 1\n",
      "      continue\n",
      "    elif char == '}':\n",
      "      c -=1\n",
      "      continue\n",
      "    elif c == 0:\n",
      "      buf.append(char)\n",
      "  return \"\".join(buf)\n",
      "\n",
      "def remove_markup(s):\n",
      "  return Parser().parse_string(s)\n",
      "\n",
      "def remove_html(s):\n",
      "  soup = BeautifulSoup(s)\n",
      "  return soup.get_text()\n",
      "\n",
      "def clean_parse(s):\n",
      "  return remove_html(remove_markup(remove_curly_braces(s)))\n"
     ],
     "language": "python",
     "metadata": {},
     "outputs": [
      {
       "output_type": "stream",
       "stream": "stdout",
       "text": [
        "A biologist, or biological scientist, is a scientist who studies living organisms, often in the context of their environment. Biologists involved in fundamental research attempt to explore and further explain the underlying mechanisms that govern the functioning of organisms. Biologists involved in applied research attempt to develop or improve more specific processes and understanding, in fields such as medicine, industry and agriculture.\n",
        "\n",
        "While \"biologist\" can apply to any scientist studying biology, most biologists research and specialise in specific fields. In this way, biologists investigate large-scale organism interactions (ecology), whole multicellular organisms, organs, tissues, cells, and small-scale cellular and molecular processes. Other biologists study less direct aspects of life, such as phylogeny and evolution. \n",
        "\n",
        "As with other scientists, biologists conduct research based on the scientific method, with hypothesis formation, experimentation and documentation of methods and data.\n",
        "\n",
        "\n",
        "There are many types of biologists. Some work on microorganisms while others study multicellular organisms.  There is much overlap between different fields of biology such as botany, zoology, microbiology, genetics and evolutionary biology, and it is often difficult to classify a biologist as only one of them. Many jobs in biology as a field require an academic degree. A Ph.D. or its equivalent is generally required to direct independent research, and involves a specialization in a specific area of biology. Many biological scientists work in research and development. Some conduct fundamental research to advance our knowledge of living organisms, including bacteria and other pathogens. This research enhances understanding and adds to the scientific database of literature. Furthermore, it often aids the development of solutions to problems in areas such as human health and the natural environment. These biological scientists mostly work in government, university, and private industry laboratories. Many expand on specialized research that they started in post-graduate qualifications, such as a PhD.\n",
        "\n",
        "Research\n",
        "Biological scientists who work in applied research or product development often use knowledge gained by basic research to further knowledge in particular fields or applications. For example, this applied research may be used to develop new pharmaceutical drugs, treatments, and medical diagnostic tests; increase crop yields; and develop biofuels. They usually have less freedom than basic researchers to choose the emphasis of their research, and they spend more time working on marketable treatments to meet the business goals of their employers. Biological scientists conducting applied research and product development in private industry may be required to describe their research plans or results to non-scientists who are in a position to veto or approve their ideas. These scientists must consider the business effects of their work.\n",
        "\n",
        "Some biologists conduct laboratory experiments involving animals, plants or microorganisms. However, some biological research also occurs outside the laboratory and may involve natural observation rather than experimentation. For example, a botanist may investigate the plant species present in a particular environment, while an ecologist might study how a forest area recovers after a fire.\n",
        "\n",
        "Swift advances in knowledge of genetics and organic molecules spurred growth in the field of biotechnology, transforming the industries in which biological scientists work. Biological scientists can now manipulate the genetic material of animals and plants, attempting to make organisms more productive or resistant to disease. Basic and applied research on biotechnological processes, such as recombining DNA, has led to the production of important substances, including human insulin and growth hormone. Many other substances not previously available in large quantities are now produced by biotechnological means. Some of these substances are useful in treating diseases.\n",
        "\n",
        "Those working on various genome (chromosomes with their associated genes) projects isolate genes and determine their function. This work continues to lead to the discovery of genes associated with specific diseases and inherited health risks, such as sickle cell anemia. Advances in biotechnology have created research opportunities in almost all areas of biology, with commercial applications in areas such as medicine, agriculture, and environmental remediation\n",
        "\n",
        "Specialists\n",
        "Most biological scientists specialize in the study of a certain type of organism or in a specific activity, although recent advances have blurred some traditional classifications.\n",
        "* Aquatic biologists study micro-organisms, plants, and animals living in water. Marine biologists study salt water organisms, and limnologists study fresh water organisms. Much of the work of marine biology centers on molecular biology, the study of the biochemical processes that take place inside living cells. Much research is also done on the behavior and acoustics of marine mammals and migration patterns of sea turtles. Marine biology is a branch of oceanography, which is the study of the biological, chemical, geological, and physical characteristics of oceans and the ocean floor. (See the Handbook statements on environmental scientists and hydrologists and on geoscientists.)\n",
        "* Biochemists study the chemical composition of living things. They analyze the complex chemical combinations and reactions involved in metabolism, reproduction, and growth. \n",
        "* Botanists study plants and their environments. Some study all aspects of plant life, including algae, lichens, mosses, ferns, conifers, and flowering plants; others specialize in areas such as identification and classification of plants, the structure and function of plant parts, the biochemistry of plant processes, the causes and cures of plant diseases, the interaction of plants with other organisms and the environment, the geological record of plants and their evolution.  Mycologists study fungi, such as yeasts, mold and mushrooms, which are a separate kingdom from plants.\n",
        "* Microbiologists investigate the growth and characteristics of microscopic organisms such as bacteria, algae, or fungi. Most microbiologists specialize in environmental, food, agricultural, or industrial microbiology; virology (the study of viruses); immunology (the study of mechanisms that fight infections); or bioinformatics (the use of computers to handle or characterize biological information, usually at the molecular level). Many microbiologists use biotechnology to advance knowledge of cell reproduction and human disease.\n",
        "* Physiologists study life functions of plants and animals,  in the whole organism and at the cellular or molecular level, under normal and abnormal conditions. Physiologists often specialize in functions such as growth, reproduction, photosynthesis, respiration, or movement, or in the physiology of a certain area or system of the organism.\n",
        "* Biophysicists study how physics, such as electrical and mechanical energy and related phenomena, relates to living cells and organisms.\n",
        "* Computational Biologists apply the techniques of computer science, applied mathematics and statistics to address biological problems. The main focus lies on developing mathematical modeling and computational simulation techniques. By these means it addresses scientific research topics with their theoretical and experimental questions without a laboratory.\n",
        "* Zoologists and wildlife biologists study animals and wildlife\\u2014their origin, behavior, diseases, and life processes. Some experiment with live animals in controlled or natural surroundings, while others dissect dead animals to study their structure. Zoologists and wildlife biologists also may collect and analyze biological data to determine the environmental effects of current and potential uses of land and water areas. Zoologists usually are identified by the animal group they study. For example, ornithologists study birds, mammalogists study mammals, herpetologists study reptiles and amphibians, ichthyologists study fish, cnidariologists study jellyfishes and entomologists study insects.\n",
        "* Ecologists investigate the relationships among organisms and between organisms and their environments, examining the effects of population size, pollutants, rainfall, temperature, and altitude. Using knowledge of various scientific disciplines, ecologists may collect, study, and report data on the quality of air, food, soil, and water.\n",
        "\n",
        "Working conditions\n",
        "Biological scientists are not usually exposed to unsafe or unhealthy conditions. Those who work with dangerous organisms or toxic substances in the laboratory must follow strict safety procedures to avoid contamination. Many biological scientists, such as botanists, ecologists, and zoologists, conduct field studies that involve strenuous physical activity and primitive living conditions. Biological scientists in the field may work in warm or cold climates, in all kinds of weather.\n",
        "\n",
        "Marine biologists encounter a variety of working conditions. Some work in laboratories; others work on research ships, and those who work underwater must practice safe diving while working around sharp coral reefs and hazardous marine life. Although some marine biologists obtain their specimens from the sea, many still spend a good deal of their time in laboratories and offices, conducting tests, running experiments, recording results, and compiling data.\n",
        "\n",
        "Many biological scientists depend on grant money to fund their research. They may be under pressure to meet deadlines and to conform to rigid grant-writing specifications when preparing proposals to seek new or extended funding.\n",
        "\n",
        "Biological scientists typically work regular hours. While the 40-hour workweek is common, longer hours are not uncommon. Researchers may be required to work odd hours in laboratories or other locations (especially while in the field), depending on the nature of their research.\n",
        "\n",
        "Honors and Awards\n",
        "The highest honor awarded to biologists is the Nobel Prize in Physiology or Medicine, awarded since 1901, by the Royal Swedish Academy of Sciences. Another significant award is the Crafoord Prize in Biosciences; established in 1980.\n",
        "\n",
        "See also\n",
        "\n",
        "* List of biologists\n",
        "* Lists of biologists by author abbreviation\n",
        "\n",
        "References\n",
        "* [http://www.bls.gov/oco/ocos047.htm U.S. Department of Labor, Occupational Outlook Handbook]\n",
        "\n",
        "\n",
        "\n",
        "\n",
        "\n",
        "\n",
        "\n",
        "\n",
        "sl:Biolog\n",
        "uk:\\u0411\\u0456\\u043e\\u043b\\u043e\\u0433\n",
        "\n"
       ]
      }
     ],
     "prompt_number": 24
    }
   ],
   "metadata": {}
  }
 ]
}