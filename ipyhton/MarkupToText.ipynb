{
 "metadata": {
  "name": "",
  "signature": "sha256:c76fb9dd46898d118526bc3618705956a3fd1d4b2f0e772b727f10f5eee593ef"
 },
 "nbformat": 3,
 "nbformat_minor": 0,
 "worksheets": [
  {
   "cells": [
    {
     "cell_type": "code",
     "collapsed": false,
     "input": [
      "Finding out how to extract raw text from Wikimedia markup"
     ],
     "language": "python",
     "metadata": {},
     "outputs": []
    },
    {
     "cell_type": "code",
     "collapsed": false,
     "input": [
      "!curl -XGET \"http://localhost:9200/_count?title=*\""
     ],
     "language": "python",
     "metadata": {},
     "outputs": [
      {
       "output_type": "stream",
       "stream": "stdout",
       "text": [
        "{\"count\":0,\"_shards\":{\"total\":0,\"successful\":0,\"failed\":0}}"
       ]
      }
     ],
     "prompt_number": 1
    },
    {
     "cell_type": "code",
     "collapsed": false,
     "input": [
      "!curl -XGET \"http://localhost:9200/_cat/indices?v\""
     ],
     "language": "python",
     "metadata": {},
     "outputs": [
      {
       "output_type": "stream",
       "stream": "stdout",
       "text": [
        "health index pri rep docs.count docs.deleted store.size pri.store.size \r\n"
       ]
      }
     ],
     "prompt_number": 2
    },
    {
     "cell_type": "code",
     "collapsed": true,
     "input": [
      "# !curl -XDELETE \"http://localhost:9200/*\""
     ],
     "language": "python",
     "metadata": {},
     "outputs": [],
     "prompt_number": 6
    },
    {
     "cell_type": "markdown",
     "metadata": {},
     "source": [
      "A glimpse of the markup text in \"biologist.txt\""
     ]
    },
    {
     "cell_type": "code",
     "collapsed": false,
     "input": [
      "!cat \"biology.txt\" | head -n 15 | tail -n 3"
     ],
     "language": "python",
     "metadata": {},
     "outputs": [
      {
       "output_type": "stream",
       "stream": "stdout",
       "text": [
        "|}\r\n",
        "<div style=\"border: none; width:200px;\"><div class=\"thumbcaption\">Biology deals with the study of the many living [[organism]]s ''(clockwise from top-left)'' ''[[E. coli]]'', [[tree fern]], [[gazelle]], [[Goliathus|Goliath beetle]]</div></div></div>\r\n",
        "{{science}}\r\n"
       ]
      }
     ],
     "prompt_number": 3
    },
    {
     "cell_type": "code",
     "collapsed": false,
     "input": [
      "!cat \"biologist.txt\" | head -n 15 | tail -n 3"
     ],
     "language": "python",
     "metadata": {},
     "outputs": [
      {
       "output_type": "stream",
       "stream": "stdout",
       "text": [
        "Biological scientists who work in applied research or product development often use knowledge gained by basic research to further knowledge in particular fields or applications. For example, this applied research may be used to develop new [[pharmaceutical drug]]s, treatments, and medical [[diagnostic test]]s; increase [[crop yield]]s; and develop [[biofuel]]s. They usually have less freedom than basic researchers to choose the emphasis of their research, and they spend more time working on marketable treatments to meet the business goals of their employers. Biological scientists conducting applied research and product development in private industry may be required to describe their research plans or results to non-scientists who are in a position to veto or approve their ideas. These scientists must consider the business effects of their work.\r\n",
        "\r\n",
        "Some biologists conduct laboratory experiments involving [[animal]]s, [[plant]]s or microorganisms. However, some biological research also occurs outside the laboratory and may involve natural observation rather than experimentation. For example, a botanist may investigate the plant species present in a particular environment, while an ecologist might study how a forest area recovers after a fire.\r\n"
       ]
      }
     ],
     "prompt_number": 7
    },
    {
     "cell_type": "code",
     "collapsed": false,
     "input": [
      "with open(\"biologist.txt\", \"r\") as f:\n",
      "    text = f.read()\n",
      "    f.close()\n",
      "len(text)"
     ],
     "language": "python",
     "metadata": {},
     "outputs": [
      {
       "metadata": {},
       "output_type": "pyout",
       "prompt_number": 8,
       "text": [
        "11749"
       ]
      }
     ],
     "prompt_number": 8
    },
    {
     "cell_type": "markdown",
     "metadata": {},
     "source": [
      "Corresponding Wikipedai article: <a href=\"https://en.wikipedia.org/w/index.php?title=Biologist&oldid=625350615\">Biologist</a>\n",
      "\n",
      "Using <a href=\"https://github.com/earwig/mwparserfromhell/\">mwparserfromhell</a> as referenced in the <a href=\"http://www.mediawiki.org/wiki/Alternative_parsers\">List of Alternative MediaWiki parsers</a>.\n",
      "<code>\n",
      "$ sudo pip install --upgrade mwparserfromhell\n",
      "</code>\n",
      "\n",
      "<ul><li><a href=\"http://mwparserfromhell.readthedocs.org/en/latest/api/mwparserfromhell.html#module-mwparserfromhell.wikicode\"> mwpaerserfromhell Documentation </a></li></ul>"
     ]
    },
    {
     "cell_type": "code",
     "collapsed": false,
     "input": [
      "import mwparserfromhell\n",
      "markup = mwparserfromhell.parse(text)\n",
      "wc = mwparserfromhell.parse(text)    # working copy Wikicode object"
     ],
     "language": "python",
     "metadata": {},
     "outputs": [],
     "prompt_number": 9
    },
    {
     "cell_type": "code",
     "collapsed": false,
     "input": [
      "print wc.get_tree()[286:920]"
     ],
     "language": "python",
     "metadata": {},
     "outputs": [
      {
       "output_type": "stream",
       "stream": "stdout",
       "text": [
        "<\n",
        "      b\n",
        ">\n",
        "      biologist\n",
        "</\n",
        "      b\n",
        ">\n",
        ", or \n",
        "<\n",
        "      b\n",
        ">\n",
        "      biological scientist\n",
        "</\n",
        "      b\n",
        ">\n",
        ", is a \n",
        "[[\n",
        "      scientist\n",
        "]]\n",
        " who studies \n",
        "[[\n",
        "      life\n",
        "    | living\n",
        "]]\n",
        " \n",
        "[[\n",
        "      organism\n",
        "]]\n",
        "s, often in the context of their environment. Biologists involved in fundamental research attempt to explore and further explain the underlying mechanisms that govern the functioning of organisms. Biologists involved in applied research attempt to develop or improve more specific processes and understanding, in fields such as \n",
        "[[\n",
        "      medicine\n",
        "]]\n",
        ", \n",
        "[[\n",
        "      industry\n",
        "]]\n",
        " and \n",
        "[[\n",
        "      agriculture\n",
        "]]\n",
        ".\\n\\nWhile \"biologist\" can apply t\n"
       ]
      }
     ],
     "prompt_number": 10
    },
    {
     "cell_type": "markdown",
     "metadata": {},
     "source": [
      "Remove Templates"
     ]
    },
    {
     "cell_type": "code",
     "collapsed": false,
     "input": [
      "for i in wc.ifilter_templates():\n",
      "    print i\n",
      "    #print wc.remove(i)"
     ],
     "language": "python",
     "metadata": {},
     "outputs": [
      {
       "output_type": "stream",
       "stream": "stdout",
       "text": [
        "{{multiple issues|original research=August 2009|refimprove=March 2012|weasel=August 2009}}\n",
        "{{why|provide explanation of this and sources|date=October 2013}}\n",
        "{{portal|Biology|Science}}\n",
        "{{biology-footer}}\n"
       ]
      }
     ],
     "prompt_number": 11
    },
    {
     "cell_type": "code",
     "collapsed": false,
     "input": [
      "for i in wc.ifilter_arguments():\n",
      "    print i\n",
      "    #print wc.remove(i)"
     ],
     "language": "python",
     "metadata": {},
     "outputs": [],
     "prompt_number": 12
    },
    {
     "cell_type": "code",
     "collapsed": false,
     "input": [
      "for i in wc.ifilter_comments():\n",
      "    print i\n",
      "    #print wc.remove(i)"
     ],
     "language": "python",
     "metadata": {},
     "outputs": [],
     "prompt_number": 13
    },
    {
     "cell_type": "code",
     "collapsed": false,
     "input": [
      "for i in wc.ifilter_external_links():\n",
      "    print i\n",
      "    #print wc.remove(i)"
     ],
     "language": "python",
     "metadata": {},
     "outputs": [
      {
       "output_type": "stream",
       "stream": "stdout",
       "text": [
        "[http://www.bls.gov/oco/ocos047.htm U.S. Department of Labor, Occupational Outlook Handbook]\n"
       ]
      }
     ],
     "prompt_number": 14
    },
    {
     "cell_type": "code",
     "collapsed": false,
     "input": [
      "for i in wc.ifilter_headings():\n",
      "    print i\n",
      "    # print wc.remove(i)"
     ],
     "language": "python",
     "metadata": {},
     "outputs": [
      {
       "output_type": "stream",
       "stream": "stdout",
       "text": [
        "==Research==\n",
        "==Specialists==\n",
        "==Working conditions==\n",
        "==Honors and Awards==\n",
        "==See also==\n",
        "==References==\n"
       ]
      }
     ],
     "prompt_number": 15
    },
    {
     "cell_type": "code",
     "collapsed": false,
     "input": [
      "for i in wc.ifilter_html_entities():\n",
      "    print i\n",
      "    #print wc.remove(i)"
     ],
     "language": "python",
     "metadata": {},
     "outputs": [],
     "prompt_number": 16
    },
    {
     "cell_type": "code",
     "collapsed": false,
     "input": [
      "for i in wc.ifilter_tags():\n",
      "    print i\n",
      "    #print wc.remove(i)"
     ],
     "language": "python",
     "metadata": {},
     "outputs": [
      {
       "output_type": "stream",
       "stream": "stdout",
       "text": [
        "'''biologist'''\n",
        "'''biological scientist'''\n",
        "*\n",
        "*\n",
        "*\n",
        "*\n",
        "*\n",
        "*\n",
        "*\n",
        "*\n",
        "*\n",
        "*\n",
        "*\n",
        "*\n"
       ]
      }
     ],
     "prompt_number": 17
    },
    {
     "cell_type": "code",
     "collapsed": false,
     "input": [
      "for i in wc.ifilter_templates():\n",
      "    print i\n",
      "    print wc.remove(i)"
     ],
     "language": "python",
     "metadata": {},
     "outputs": [
      {
       "output_type": "stream",
       "stream": "stdout",
       "text": [
        "{{multiple issues|original research=August 2009|refimprove=March 2012|weasel=August 2009}}\n",
        "None\n",
        "{{why|provide explanation of this and sources|date=October 2013}}\n",
        "None\n",
        "{{portal|Biology|Science}}\n",
        "None\n",
        "{{biology-footer}}\n",
        "None\n"
       ]
      }
     ],
     "prompt_number": 18
    },
    {
     "cell_type": "code",
     "collapsed": false,
     "input": [
      "a = 500\n",
      "ls = (list(wc.ifilter_text()))\n",
      "print len(ls)\n",
      "for i in range(250,260):\n",
      "    print \">> %s\" % ls[i]\n",
      "    #print wc.remove(ls[i])"
     ],
     "language": "python",
     "metadata": {},
     "outputs": [
      {
       "output_type": "stream",
       "stream": "stdout",
       "text": [
        "274\n",
        ">> \n",
        "\n",
        ">>  \n",
        ">> Lists of biologists by author abbreviation\n",
        ">> \n",
        "\n",
        "\n",
        ">> References\n",
        ">> \n",
        "\n",
        ">>  \n",
        ">> http://www.bls.gov/oco/ocos047.htm\n",
        ">> U.S. Department of Labor, Occupational Outlook Handbook\n",
        ">> \n",
        "\n",
        "\n"
       ]
      }
     ],
     "prompt_number": 19
    },
    {
     "cell_type": "code",
     "collapsed": false,
     "input": [
      "ls = list(wc.ifilter_wikilinks())\n",
      "print len(ls)\n",
      "for i in range(20,25):\n",
      "    print ls[i]\n",
      "    #print wc.remove(ls[i])"
     ],
     "language": "python",
     "metadata": {},
     "outputs": [
      {
       "output_type": "stream",
       "stream": "stdout",
       "text": [
        "104\n",
        "[[Scientific data archiving|documentation]]\n",
        "[[Protocol (Science)|methods]]\n",
        "[[data]]\n",
        "[[microorganism]]\n",
        "[[botany]]\n"
       ]
      }
     ],
     "prompt_number": 20
    },
    {
     "cell_type": "code",
     "collapsed": false,
     "input": [
      "# String -> (String , [String])\n",
      "def wikilink_to_text(wl):\n",
      "    ls = wl[2:-2].split(\"|\")\n",
      "    return (ls[-1], ls)\n",
      "\n",
      "wikilink_to_text(\"[[Protocol (Science)|Scientific data archiving|documentation]]\")"
     ],
     "language": "python",
     "metadata": {},
     "outputs": [
      {
       "metadata": {},
       "output_type": "pyout",
       "prompt_number": 21,
       "text": [
        "('documentation',\n",
        " ['Protocol (Science)', 'Scientific data archiving', 'documentation'])"
       ]
      }
     ],
     "prompt_number": 21
    },
    {
     "cell_type": "code",
     "collapsed": false,
     "input": [
      "infos = {\n",
      "    'links':[]\n",
      "}\n",
      "\n",
      "for i in wc.ifilter_wikilinks():\n",
      "    t, lks = wikilink_to_text(i)\n",
      "    infos['links'] = infos['links'] + [{'text':t, 'links':lks}]\n",
      "    #wc.replace(i,t,recursive=True)\n",
      "\n",
      "for i in infos['links']:\n",
      "    print i"
     ],
     "language": "python",
     "metadata": {},
     "outputs": [
      {
       "output_type": "stream",
       "stream": "stdout",
       "text": [
        "{'text': u'[[Martinus Willem Beijerinck]], a botanist and microbiologist.', 'links': [u'File:Mwb in lab-2.jpg', u'thumb', u'[[Martinus Willem Beijerinck]], a botanist and microbiologist.']}\n",
        "{'text': u'Martinus Willem Beijerinck', 'links': [u'Martinus Willem Beijerinck']}\n",
        "{'text': u'scientist', 'links': [u'scientist']}\n",
        "{'text': u'living', 'links': [u'life', u'living']}\n",
        "{'text': u'organism', 'links': [u'organism']}\n",
        "{'text': u'medicine', 'links': [u'medicine']}\n",
        "{'text': u'industry', 'links': [u'industry']}\n",
        "{'text': u'agriculture', 'links': [u'agriculture']}\n",
        "{'text': u'biology', 'links': [u'biology']}\n",
        "{'text': u'ecology', 'links': [u'ecology']}\n",
        "{'text': u'multicellular organism', 'links': [u'multicellular organism']}\n",
        "{'text': u'organs', 'links': [u'Organ (anatomy)', u'organs']}\n",
        "{'text': u'tissues', 'links': [u'Tissue (biology)', u'tissues']}\n",
        "{'text': u'cells', 'links': [u'Cell (biology)', u'cells']}\n",
        "{'text': u'molecular', 'links': [u'Molecular genetics', u'molecular']}\n",
        "{'text': u'phylogeny', 'links': [u'Phylogenetics', u'phylogeny']}\n",
        "{'text': u'evolution', 'links': [u'evolution']}\n",
        "{'text': u'scientific method', 'links': [u'scientific method']}\n",
        "{'text': u'hypothesis', 'links': [u'hypothesis']}\n",
        "{'text': u'experimentation', 'links': [u'Experiment', u'experimentation']}\n",
        "{'text': u'documentation', 'links': [u'Scientific data archiving', u'documentation']}\n",
        "{'text': u'methods', 'links': [u'Protocol (Science)', u'methods']}\n",
        "{'text': u'data', 'links': [u'data']}\n",
        "{'text': u'microorganism', 'links': [u'microorganism']}\n",
        "{'text': u'botany', 'links': [u'botany']}\n",
        "{'text': u'zoology', 'links': [u'zoology']}\n",
        "{'text': u'microbiology', 'links': [u'microbiology']}\n",
        "{'text': u'genetics', 'links': [u'genetics']}\n",
        "{'text': u'evolutionary biology', 'links': [u'evolutionary biology']}\n",
        "{'text': u'academic degree', 'links': [u'academic degree']}\n",
        "{'text': u'Ph.D.', 'links': [u'Doctor of Philosophy', u'Ph.D.']}\n",
        "{'text': u'bacteria', 'links': [u'bacteria']}\n",
        "{'text': u'pathogen', 'links': [u'pathogen']}\n",
        "{'text': u'laboratories', 'links': [u'Laboratory', u'laboratories']}\n",
        "{'text': u'pharmaceutical drug', 'links': [u'pharmaceutical drug']}\n",
        "{'text': u'diagnostic test', 'links': [u'diagnostic test']}\n",
        "{'text': u'crop yield', 'links': [u'crop yield']}\n",
        "{'text': u'biofuel', 'links': [u'biofuel']}\n",
        "{'text': u'animal', 'links': [u'animal']}\n",
        "{'text': u'plant', 'links': [u'plant']}\n",
        "{'text': u'Marine biologists', 'links': [u'Marine Biology', u'Marine biologists']}\n",
        "{'text': u'fresh water organisms', 'links': [u'Limnology', u'fresh water organisms']}\n",
        "{'text': u'molecular biology', 'links': [u'molecular biology']}\n",
        "{'text': u'oceanography', 'links': [u'oceanography']}\n",
        "{'text': u'Biochemists', 'links': [u'Biochemistry', u'Biochemists']}\n",
        "{'text': u'metabolism', 'links': [u'metabolism']}\n",
        "{'text': u'reproduction', 'links': [u'reproduction']}\n",
        "{'text': u'Botanists', 'links': [u'Botany', u'Botanists']}\n",
        "{'text': u'algae', 'links': [u'algae']}\n",
        "{'text': u'lichen', 'links': [u'lichen']}\n",
        "{'text': u'moss', 'links': [u'moss']}\n",
        "{'text': u'fern', 'links': [u'fern']}\n",
        "{'text': u'conifers', 'links': [u'Pinophyta', u'conifers']}\n",
        "{'text': u'flowering plant', 'links': [u'flowering plant']}\n",
        "{'text': u'Mycologists', 'links': [u'Mycology', u'Mycologists']}\n",
        "{'text': u'fungi', 'links': [u'fungi']}\n",
        "{'text': u'yeasts', 'links': [u'yeasts']}\n",
        "{'text': u'mold', 'links': [u'mold']}\n",
        "{'text': u'mushrooms', 'links': [u'mushrooms']}\n",
        "{'text': u'Microbiologists', 'links': [u'Microbiology', u'Microbiologists']}\n",
        "{'text': u'bacteria', 'links': [u'bacteria']}\n",
        "{'text': u'industrial microbiology', 'links': [u'industrial microbiology']}\n",
        "{'text': u'virology', 'links': [u'virology']}\n",
        "{'text': u'virus', 'links': [u'virus']}\n",
        "{'text': u'immunology', 'links': [u'immunology']}\n",
        "{'text': u'bioinformatics', 'links': [u'bioinformatics']}\n",
        "{'text': u'Physiologists', 'links': [u'Physiology', u'Physiologists']}\n",
        "{'text': u'photosynthesis', 'links': [u'photosynthesis']}\n",
        "{'text': u'Biophysicists', 'links': [u'Biophysics', u'Biophysicists']}\n",
        "{'text': u'Computational Biologists', 'links': [u'Computational Biology', u'Computational Biologists']}\n",
        "{'text': u'computer science', 'links': [u'computer science']}\n",
        "{'text': u'applied mathematics', 'links': [u'applied mathematics']}\n",
        "{'text': u'statistics', 'links': [u'statistics']}\n",
        "{'text': u'mathematical modeling', 'links': [u'mathematical modeling']}\n",
        "{'text': u'Zoologists', 'links': [u'Zoology', u'Zoologists']}\n",
        "{'text': u'ornithologists', 'links': [u'ornithology', u'ornithologists']}\n",
        "{'text': u'bird', 'links': [u'bird']}\n",
        "{'text': u'mammalogists', 'links': [u'mammalogy', u'mammalogists']}\n",
        "{'text': u'mammal', 'links': [u'mammal']}\n",
        "{'text': u'herpetologists', 'links': [u'herpetology', u'herpetologists']}\n",
        "{'text': u'reptile', 'links': [u'reptile']}\n",
        "{'text': u'amphibian', 'links': [u'amphibian']}\n",
        "{'text': u'ichthyologists', 'links': [u'ichthyology', u'ichthyologists']}\n",
        "{'text': u'fish', 'links': [u'fish']}\n",
        "{'text': u'cnidariologist', 'links': [u'cnidariologist']}\n",
        "{'text': u'jellyfish', 'links': [u'jellyfish']}\n",
        "{'text': u'entomologist', 'links': [u'entomologist']}\n",
        "{'text': u'Ecologists', 'links': [u'Ecology', u'Ecologists']}\n",
        "{'text': u'toxic', 'links': [u'Toxicity', u'toxic']}\n",
        "{'text': u'safety', 'links': [u'safety']}\n",
        "{'text': u'contamination', 'links': [u'contamination']}\n",
        "{'text': u'weather', 'links': [u'weather']}\n",
        "{'text': u'coral reef', 'links': [u'coral reef']}\n",
        "{'text': u'grant money', 'links': [u'Grant (money)', u'grant money']}\n",
        "{'text': u'Nobel Prize in Physiology or Medicine', 'links': [u'Nobel Prize in Physiology or Medicine']}\n",
        "{'text': u'Crafoord Prize', 'links': [u'Crafoord Prize']}\n",
        "{'text': u'List of biologists', 'links': [u'List of biologists']}\n",
        "{'text': u'Lists of biologists by author abbreviation', 'links': [u'Lists of biologists by author abbreviation']}\n",
        "{'text': u' ', 'links': [u'Category:Biology', u' ']}\n",
        "{'text': u'Category:Occupations', 'links': [u'Category:Occupations']}\n",
        "{'text': u'Category:Science occupations', 'links': [u'Category:Science occupations']}\n",
        "{'text': u' ', 'links': [u'Category:Biologists', u' ']}\n",
        "{'text': u'sl:Biolog', 'links': [u'sl:Biolog']}\n",
        "{'text': u'uk:\\\\u0411\\\\u0456\\\\u043e\\\\u043b\\\\u043e\\\\u0433', 'links': [u'uk:\\\\u0411\\\\u0456\\\\u043e\\\\u043b\\\\u043e\\\\u0433']}\n"
       ]
      }
     ],
     "prompt_number": 22
    },
    {
     "cell_type": "code",
     "collapsed": false,
     "input": [
      "%load clean_and_parse.py"
     ],
     "language": "python",
     "metadata": {},
     "outputs": [],
     "prompt_number": 23
    },
    {
     "cell_type": "code",
     "collapsed": false,
     "input": [
      "from nltk import clean_html\n",
      "from dewiki.parser import Parser # https://github.com/daddyd/dewiki.git\n",
      "from wiki_api import fetch_articles_by_titles\n",
      "from io_utils import read, save\n",
      "\n",
      "# String -> String\n",
      "def remove_markup(s):\n",
      "  return Parser().parse_string(s)\n",
      "\n",
      "def remove_html(s):\n",
      "  return clean_html(s)\n",
      "\n",
      "def test():\n",
      "  article = fetch_articles_by_titles([\"biology\"], 1)\n",
      "  save(\"biology.txt\", article[0][\"content\"])\n",
      "  t = read(\"biology.txt\")\n",
      "  t1 = remove_markup(t)\n",
      "  save(\"biology_1.txt\", t1)\n",
      "  t2 = remove_html(t1)\n",
      "  save(\"biology_2.txt\", t2)\n",
      "  print \"Done!\"\n",
      "\n",
      "test()"
     ],
     "language": "python",
     "metadata": {},
     "outputs": []
    },
    {
     "cell_type": "code",
     "collapsed": false,
     "input": [
      "from nltk import clean_html\n",
      "from dewiki.parser import Parser # https://github.com/daddyd/dewiki.git\n",
      "from wiki_api import fetch_articles_by_titles\n",
      "from io_utils import read, save\n",
      "\n",
      "# String -> String\n",
      "def remove_markup(s):\n",
      "  return Parser().parse_string(s)\n",
      "\n",
      "def remove_html(s):\n",
      "  return clean_html(s)\n",
      "\n",
      "def test():\n",
      "  article = fetch_articles_by_titles([\"biology\"], 1)\n",
      "  save(\"biology.txt\", article[0][\"content\"])\n",
      "  t = read(\"biology.txt\")\n",
      "  t1 = remove_markup(t)\n",
      "  save(\"biology_1.txt\", t1)\n",
      "  t2 = remove_html(t1)\n",
      "  save(\"biology_2.txt\", t2)\n",
      "  print \"Done!\"\n",
      "\n",
      "#test()"
     ],
     "language": "python",
     "metadata": {},
     "outputs": [],
     "prompt_number": 24
    },
    {
     "cell_type": "code",
     "collapsed": false,
     "input": [
      "mwparserfromhell.utils"
     ],
     "language": "python",
     "metadata": {},
     "outputs": [
      {
       "metadata": {},
       "output_type": "pyout",
       "prompt_number": 25,
       "text": [
        "'\\n[[File:Mwb in lab-2.jpg|thumb|[[Martinus Willem Beijerinck]], a botanist and microbiologist.]]\\nA \\'\\'\\'biologist\\'\\'\\', or \\'\\'\\'biological scientist\\'\\'\\', is a [[scientist]] who studies [[life|living]] [[organism]]s, often in the context of their environment. Biologists involved in fundamental research attempt to explore and further explain the underlying mechanisms that govern the functioning of organisms. Biologists involved in applied research attempt to develop or improve more specific processes and understanding, in fields such as [[medicine]], [[industry]] and [[agriculture]].\\n\\nWhile \"biologist\" can apply to any scientist studying [[biology]], most biologists research and specialise in specific fields. In this way, biologists investigate large-scale organism interactions ([[ecology]]), whole [[multicellular organism]]s, [[Organ (anatomy)|organs]], [[Tissue (biology)|tissues]], [[Cell (biology)|cells]], and small-scale cellular and [[Molecular genetics|molecular]] processes. Other biologists study less direct aspects of life, such as [[Phylogenetics|phylogeny]] and [[evolution]]. \\n\\nAs with other scientists, biologists conduct research based on the [[scientific method]], with [[hypothesis]] formation, [[Experiment|experimentation]] and [[Scientific data archiving|documentation]] of [[Protocol (Science)|methods]] and [[data]].\\n\\n\\nThere are many types of biologists. Some work on [[microorganism]]s while others study multicellular organisms.  There is much overlap between different fields of biology such as [[botany]], [[zoology]], [[microbiology]], [[genetics]] and [[evolutionary biology]], and it is often difficult to classify a biologist as only one of them. Many jobs in biology as a field require an [[academic degree]]. A [[Doctor of Philosophy|Ph.D.]] or its equivalent is generally required to direct independent research, and involves a specialization in a specific area of biology. Many biological scientists work in research and development. Some conduct fundamental research to advance our knowledge of living organisms, including [[bacteria]] and other [[pathogen]]s. This research enhances understanding and adds to the scientific database of literature. Furthermore, it often aids the development of solutions to problems in areas such as human health and the natural environment. These biological scientists mostly work in government, university, and private industry [[Laboratory|laboratories]]. Many expand on specialized research that they started in post-graduate qualifications, such as a PhD.\\n\\n==Research==\\nBiological scientists who work in applied research or product development often use knowledge gained by basic research to further knowledge in particular fields or applications. For example, this applied research may be used to develop new [[pharmaceutical drug]]s, treatments, and medical [[diagnostic test]]s; increase [[crop yield]]s; and develop [[biofuel]]s. They usually have less freedom than basic researchers to choose the emphasis of their research, and they spend more time working on marketable treatments to meet the business goals of their employers. Biological scientists conducting applied research and product development in private industry may be required to describe their research plans or results to non-scientists who are in a position to veto or approve their ideas. These scientists must consider the business effects of their work.\\n\\nSome biologists conduct laboratory experiments involving [[animal]]s, [[plant]]s or microorganisms. However, some biological research also occurs outside the laboratory and may involve natural observation rather than experimentation. For example, a botanist may investigate the plant species present in a particular environment, while an ecologist might study how a forest area recovers after a fire.\\n\\nSwift advances in knowledge of genetics and organic molecules spurred growth in the field of biotechnology, transforming the industries in which biological scientists work. Biological scientists can now manipulate the genetic material of animals and plants, attempting to make organisms more productive or resistant to disease. Basic and applied research on biotechnological processes, such as recombining DNA, has led to the production of important substances, including human insulin and growth hormone. Many other substances not previously available in large quantities are now produced by biotechnological means. Some of these substances are useful in treating diseases.\\n\\nThose working on various genome (chromosomes with their associated genes) projects isolate genes and determine their function. This work continues to lead to the discovery of genes associated with specific diseases and inherited health risks, such as sickle cell anemia. Advances in biotechnology have created research opportunities in almost all areas of biology, with commercial applications in areas such as medicine, agriculture, and environmental remediation\\n\\n==Specialists==\\nMost biological scientists specialize in the study of a certain type of organism or in a specific activity, although recent advances have blurred some traditional classifications.\\n* Aquatic biologists study micro-organisms, plants, and animals living in water. [[Marine Biology|Marine biologists]] study salt water organisms, and limnologists study [[Limnology|fresh water organisms]]. Much of the work of marine biology centers on [[molecular biology]], the study of the biochemical processes that take place inside living cells. Much research is also done on the behavior and acoustics of marine mammals and migration patterns of sea turtles. Marine biology is a branch of [[oceanography]], which is the study of the biological, chemical, geological, and physical characteristics of oceans and the ocean floor. (See the Handbook statements on environmental scientists and hydrologists and on geoscientists.)\\n* [[Biochemistry|Biochemists]] study the chemical composition of living things. They analyze the complex chemical combinations and reactions involved in [[metabolism]], [[reproduction]], and growth. \\n* [[Botany|Botanists]] study plants and their environments. Some study all aspects of plant life, including [[algae]], [[lichen]]s, [[moss]]es, [[fern]]s, [[Pinophyta|conifers]], and [[flowering plant]]s; others specialize in areas such as identification and classification of plants, the structure and function of plant parts, the biochemistry of plant processes, the causes and cures of plant diseases, the interaction of plants with other organisms and the environment, the geological record of plants and their evolution.  [[Mycology|Mycologists]] study [[fungi]], such as [[yeasts]], [[mold]] and [[mushrooms]], which are a separate kingdom from plants.\\n* [[Microbiology|Microbiologists]] investigate the growth and characteristics of microscopic organisms such as [[bacteria]], algae, or fungi. Most microbiologists specialize in environmental, food, agricultural, or [[industrial microbiology]]; [[virology]] (the study of [[virus]]es); [[immunology]] (the study of mechanisms that fight infections); or [[bioinformatics]] (the use of computers to handle or characterize biological information, usually at the molecular level). Many microbiologists use biotechnology to advance knowledge of cell reproduction and human disease.\\n* [[Physiology|Physiologists]] study life functions of plants and animals,  in the whole organism and at the cellular or molecular level, under normal and abnormal conditions. Physiologists often specialize in functions such as growth, reproduction, [[photosynthesis]], respiration, or movement, or in the physiology of a certain area or system of the organism.\\n* [[Biophysics|Biophysicists]] study how physics, such as electrical and mechanical energy and related phenomena, relates to living cells and organisms.\\n* [[Computational Biology|Computational Biologists]] apply the techniques of [[computer science]], [[applied mathematics]] and [[statistics]] to address biological problems. The main focus lies on developing [[mathematical modeling]] and computational simulation techniques. By these means it addresses scientific research topics with their theoretical and experimental questions without a laboratory.\\n* [[Zoology|Zoologists]] and wildlife biologists study animals and wildlife\\\\u2014their origin, behavior, diseases, and life processes. Some experiment with live animals in controlled or natural surroundings, while others dissect dead animals to study their structure. Zoologists and wildlife biologists also may collect and analyze biological data to determine the environmental effects of current and potential uses of land and water areas. Zoologists usually are identified by the animal group they study. For example, [[ornithology|ornithologists]] study [[bird]]s, [[mammalogy|mammalogists]] study [[mammal]]s, [[herpetology|herpetologists]] study [[reptile]]s and [[amphibian]]s, [[ichthyology|ichthyologists]] study [[fish]], [[cnidariologist]]s study [[jellyfish]]es and [[entomologist]]s study insects.\\n* [[Ecology|Ecologists]] investigate the relationships among organisms and between organisms and their environments, examining the effects of population size, pollutants, rainfall, temperature, and altitude. Using knowledge of various scientific disciplines, ecologists may collect, study, and report data on the quality of air, food, soil, and water.\\n\\n==Working conditions==\\nBiological scientists are not usually exposed to unsafe or unhealthy conditions. Those who work with dangerous organisms or [[Toxicity|toxic]] substances in the laboratory must follow strict [[safety]] procedures to avoid [[contamination]]. Many biological scientists, such as botanists, ecologists, and zoologists, conduct field studies that involve strenuous physical activity and primitive living conditions. Biological scientists in the field may work in warm or cold climates, in all kinds of [[weather]].\\n\\nMarine biologists encounter a variety of working conditions. Some work in laboratories; others work on research ships, and those who work underwater must practice safe diving while working around sharp [[coral reef]]s and hazardous marine life. Although some marine biologists obtain their specimens from the sea, many still spend a good deal of their time in laboratories and offices, conducting tests, running experiments, recording results, and compiling data.\\n\\nMany biological scientists depend on [[Grant (money)|grant money]] to fund their research. They may be under pressure to meet deadlines and to conform to rigid grant-writing specifications when preparing proposals to seek new or extended funding.\\n\\nBiological scientists typically work regular hours. While the 40-hour workweek is common, longer hours are not uncommon. Researchers may be required to work odd hours in laboratories or other locations (especially while in the field), depending on the nature of their research.\\n\\n==Honors and Awards==\\nThe highest honor awarded to biologists is the [[Nobel Prize in Physiology or Medicine]], awarded since 1901, by the Royal Swedish Academy of Sciences. Another significant award is the [[Crafoord Prize]] in Biosciences; established in 1980.\\n\\n==See also==\\n\\n* [[List of biologists]]\\n* [[Lists of biologists by author abbreviation]]\\n\\n==References==\\n* [http://www.bls.gov/oco/ocos047.htm U.S. Department of Labor, Occupational Outlook Handbook]\\n\\n\\n\\n[[Category:Biology| ]]\\n[[Category:Occupations]]\\n[[Category:Science occupations]]\\n[[Category:Biologists| ]]\\n\\n[[sl:Biolog]]\\n[[uk:\\\\u0411\\\\u0456\\\\u043e\\\\u043b\\\\u043e\\\\u0433]]'"
       ]
      }
     ],
     "prompt_number": 25
    },
    {
     "cell_type": "code",
     "collapsed": false,
     "input": [],
     "language": "python",
     "metadata": {},
     "outputs": [],
     "prompt_number": 24
    },
    {
     "cell_type": "code",
     "collapsed": false,
     "input": [],
     "language": "python",
     "metadata": {},
     "outputs": [],
     "prompt_number": 24
    }
   ],
   "metadata": {}
  }
 ]
}
