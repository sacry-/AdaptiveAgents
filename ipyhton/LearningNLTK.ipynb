{
 "metadata": {
  "name": "",
  "signature": "sha256:7bb38b030160548f41b5c4c6538915d47923e9f797669dc9431796698b05c018"
 },
 "nbformat": 3,
 "nbformat_minor": 0,
 "worksheets": [
  {
   "cells": [
    {
     "cell_type": "heading",
     "level": 1,
     "metadata": {},
     "source": [
      "Natural Language Processing with Python NLTK"
     ]
    },
    {
     "cell_type": "markdown",
     "metadata": {
      "slideshow": {
       "slide_type": "-"
      }
     },
     "source": [
      "base on the [NLTK http://www.nltk.org/book/ch01.html] book"
     ]
    },
    {
     "cell_type": "code",
     "collapsed": false,
     "input": [
      "import nltk"
     ],
     "language": "python",
     "metadata": {},
     "outputs": [],
     "prompt_number": 1
    },
    {
     "cell_type": "code",
     "collapsed": false,
     "input": [
      "nltk.data.path"
     ],
     "language": "python",
     "metadata": {},
     "outputs": [
      {
       "metadata": {},
       "output_type": "pyout",
       "prompt_number": 2,
       "text": [
        "['/home/swaneet/nltk_data',\n",
        " '/usr/share/nltk_data',\n",
        " '/usr/local/share/nltk_data',\n",
        " '/usr/lib/nltk_data',\n",
        " '/usr/local/lib/nltk_data']"
       ]
      }
     ],
     "prompt_number": 2
    },
    {
     "cell_type": "code",
     "collapsed": false,
     "input": [
      "from nltk.book import *"
     ],
     "language": "python",
     "metadata": {},
     "outputs": [
      {
       "output_type": "stream",
       "stream": "stdout",
       "text": [
        "*** Introductory Examples for the NLTK Book ***\n",
        "Loading text1, ..., text9 and sent1, ..., sent9\n",
        "Type the name of the text or sentence to view it.\n",
        "Type: 'texts()' or 'sents()' to list the materials.\n",
        "text1:"
       ]
      },
      {
       "output_type": "stream",
       "stream": "stdout",
       "text": [
        " Moby Dick by Herman Melville 1851\n",
        "text2:"
       ]
      },
      {
       "output_type": "stream",
       "stream": "stdout",
       "text": [
        " Sense and Sensibility by Jane Austen 1811\n",
        "text3:"
       ]
      },
      {
       "output_type": "stream",
       "stream": "stdout",
       "text": [
        " The Book of Genesis\n",
        "text4:"
       ]
      },
      {
       "output_type": "stream",
       "stream": "stdout",
       "text": [
        " Inaugural Address Corpus\n",
        "text5:"
       ]
      },
      {
       "output_type": "stream",
       "stream": "stdout",
       "text": [
        " Chat Corpus\n",
        "text6: Monty Python and the Holy Grail\n",
        "text7:"
       ]
      },
      {
       "output_type": "stream",
       "stream": "stdout",
       "text": [
        " Wall Street Journal\n",
        "text8: Personals Corpus\n",
        "text9:"
       ]
      },
      {
       "output_type": "stream",
       "stream": "stdout",
       "text": [
        " The Man Who Was Thursday by G . K . Chesterton 1908\n"
       ]
      }
     ],
     "prompt_number": 3
    },
    {
     "cell_type": "code",
     "collapsed": false,
     "input": [
      "text1"
     ],
     "language": "python",
     "metadata": {},
     "outputs": [
      {
       "metadata": {},
       "output_type": "pyout",
       "prompt_number": 4,
       "text": [
        "<Text: Moby Dick by Herman Melville 1851>"
       ]
      }
     ],
     "prompt_number": 4
    },
    {
     "cell_type": "code",
     "collapsed": false,
     "input": [
      "a = text1.concordance(\"size\")\n",
      "a = 3"
     ],
     "language": "python",
     "metadata": {},
     "outputs": [
      {
       "output_type": "stream",
       "stream": "stdout",
       "text": [
        "Building index...\n",
        "Displaying 12 of 12 matches:"
       ]
      },
      {
       "output_type": "stream",
       "stream": "stdout",
       "text": [
        "\n",
        "former , one was of a most monstrous size . ... This came towards us , open - \n",
        "m for one . He is of moderate octavo size , varying from fifteen to twenty - f\n",
        "bullies -- Take some one of your own size ; don ' t pommel ME ! No , ye ' ve k\n",
        "t , where a wooden pin or skewer the size of a common quill , prevents it from\n",
        "he meat is made into balls about the size of billiard balls , and being well s\n",
        "aining vertebrae the canal tapers in size , but for a considerable distance re\n",
        "coloured bunch or protuberance , the size of a bushel , low down on the flank \n",
        ". Two thick squares of wood of equal size are stoutly clenched together , so t\n",
        "ss , and for the rest , is about the size of the iron part of a hoe . Edgewise\n",
        "n of a Sperm Whale , but of moderate size , by no means of the full - grown ma\n",
        " - Bones ; for Whales of a monstrous size are oftentimes cast up dead upon tha\n",
        "g to its latter formations exceed in size those of its earlier ones . Of all t\n"
       ]
      }
     ],
     "prompt_number": 5
    },
    {
     "cell_type": "code",
     "collapsed": false,
     "input": [
      "text2.concordance(\"sex\")"
     ],
     "language": "python",
     "metadata": {},
     "outputs": [
      {
       "output_type": "stream",
       "stream": "stdout",
       "text": [
        "Building index...\n",
        "Displaying 7 of 7 matches:"
       ]
      },
      {
       "output_type": "stream",
       "stream": "stdout",
       "text": [
        "\n",
        ", though he esteems only those of his sex who are sportsmen likewise , is not o\n",
        " by finding , like many others of his sex , that through some unaccountable bia\n",
        "thus supported the dignity of her own sex , and spoken her decided censure of w\n",
        "case rendered reasonable , though his sex might make it rare ; for his heart ha\n",
        "on , but unfatherly opinion among his sex , of all infants being alike ; and th\n",
        " person and understanding to half her sex ; and time and habit will teach him t\n",
        " with no traits at all unusual in his sex and time of life . He was nice in his\n"
       ]
      }
     ],
     "prompt_number": 6
    },
    {
     "cell_type": "heading",
     "level": 5,
     "metadata": {},
     "source": [
      "Utilitiy Variables"
     ]
    },
    {
     "cell_type": "code",
     "collapsed": false,
     "input": [
      "texts = [(eval(\"text%d\" % i), i) for i in range(1,10) ]"
     ],
     "language": "python",
     "metadata": {},
     "outputs": [],
     "prompt_number": 7
    },
    {
     "cell_type": "code",
     "collapsed": false,
     "input": [
      "for text, i in texts:\n",
      "    print \"Text %d: %s\" % (i, text)\n",
      "    print \"Concordance:\"\n",
      "    text.concordance(\"sex\")\n",
      "    print \"Similarity:\"\n",
      "    text.similar(\"sex\")"
     ],
     "language": "python",
     "metadata": {},
     "outputs": [
      {
       "output_type": "stream",
       "stream": "stdout",
       "text": [
        "Text 1: <Text: Moby Dick by Herman Melville 1851>\n",
        "Concordance:\n",
        "Displaying 1 of 1 matches:\n",
        "hose two seemed one ; it was only the sex , as it were , that distinguished the\n",
        "Similarity:\n",
        "Building word-context index...\n",
        "skeleton deck rod ramadan rest dish razors captain lake crew cartload\n",
        "lip unctuousness skies bowsman evening sailors advocate hunter breast"
       ]
      },
      {
       "output_type": "stream",
       "stream": "stdout",
       "text": [
        "\n",
        "Text 2: <Text: Sense and Sensibility by Jane Austen 1811>\n",
        "Concordance:\n",
        "Displaying 7 of 7 matches:\n",
        ", though he esteems only those of his sex who are sportsmen likewise , is not o\n",
        " by finding , like many others of his sex , that through some unaccountable bia\n",
        "thus supported the dignity of her own sex , and spoken her decided censure of w\n",
        "case rendered reasonable , though his sex might make it rare ; for his heart ha\n",
        "on , but unfatherly opinion among his sex , of all infants being alike ; and th\n",
        " person and understanding to half her sex ; and time and habit will teach him t\n",
        " with no traits at all unusual in his sex and time of life . He was nice in his\n",
        "Similarity:\n",
        "Building word-context index...\n",
        "opinions infant coach shoes being attachment horses merit favour own\n",
        "relation looks misconduct chair integrity children happiness limbs\n",
        "death knowledge"
       ]
      },
      {
       "output_type": "stream",
       "stream": "stdout",
       "text": [
        "\n",
        "Text 3: <Text: The Book of Genesis>\n",
        "Concordance:\n",
        "Building index...\n",
        "No matches\n",
        "Similarity:\n",
        "Building word-context index...\n",
        "No matches"
       ]
      },
      {
       "output_type": "stream",
       "stream": "stdout",
       "text": [
        "\n",
        "Text 4: <Text: Inaugural Address Corpus>\n",
        "Concordance:\n",
        "Building index...\n",
        "No matches"
       ]
      },
      {
       "output_type": "stream",
       "stream": "stdout",
       "text": [
        "\n",
        "Similarity:\n",
        "Building word-context index...\n",
        "No matches"
       ]
      },
      {
       "output_type": "stream",
       "stream": "stdout",
       "text": [
        "\n",
        "Text 5: <Text: Chat Corpus>\n",
        "Concordance:\n",
        "Building index...\n",
        "Displaying 10 of 10 matches:\n",
        "9 ... you married ? lol hell no , u ? sex , drugs and rock n roll PART lol U19 \n",
        "the rock and roll .... definitley the sex .... lol yeppers ya drugs r bad i sin\n",
        "any of you were attracted to the same sex JOIN oh man , they just xxxed it muh \n",
        " to go lol U69 is a gimp yea .. and ! sex lol ! lick U65 youuu can touch you ca\n",
        "4 sweet yeah U69 you have to make a ! sex or at least ! molest one good yeah I \n",
        "e fluids :) yes I know hmmm ... cyber sex sucks lol ! grope U31 . ACTION watche\n",
        "to bed . Night all SLEEP ... over not sex night ... simular but not hehe lol U6\n",
        "ter take at least a few weeks to work sex take a deep breath think about till y\n",
        "RT whats balck and blue and scared of sex ? me ? haha PART PART Oops . yawn ...\n",
        "ce-and-quiet than excitement ..... so sex is out ;) sing it , U52 I got here fi\n",
        "Similarity:\n",
        "Building word-context index...\n",
        "geeks hair fantasy second radio go bones girl cream army sock mexicans\n",
        "teens store pm sammich jerk watching handyman half"
       ]
      },
      {
       "output_type": "stream",
       "stream": "stdout",
       "text": [
        "\n",
        "Text 6: <Text: Monty Python and the Holy Grail>\n",
        "Concordance:\n",
        "Building index...\n",
        "Displaying 3 of 3 matches:\n",
        "O : And after the spanking , the oral sex . GIRLS : The oral sex ! The oral sex\n",
        "ing , the oral sex . GIRLS : The oral sex ! The oral sex ! GALAHAD : Well , I c\n",
        "sex . GIRLS : The oral sex ! The oral sex ! GALAHAD : Well , I could stay a bit\n",
        "Similarity:\n",
        "Building word-context index...\n"
       ]
      },
      {
       "output_type": "stream",
       "stream": "stdout",
       "text": [
        "\n",
        "Text 7: <Text: Wall Street Journal>\n",
        "Concordance:\n",
        "Building index...\n",
        "Displaying 2 of 2 matches:"
       ]
      },
      {
       "output_type": "stream",
       "stream": "stdout",
       "text": [
        "\n",
        "d Chinese 0 *T*-2 to get AIDS through sex , the People 's Daily said 0 *T*-1 . \n",
        " had for a long time had `` a chaotic sex life , '' including relations with fo\n",
        "Similarity:\n",
        "Building word-context index...\n",
        "since with"
       ]
      },
      {
       "output_type": "stream",
       "stream": "stdout",
       "text": [
        "\n",
        "Text 8: <Text: Personals Corpus>\n",
        "Concordance:\n",
        "Building index...\n",
        "No matches\n",
        "Similarity:\n",
        "Building word-context index...\n",
        "No matches\n",
        "Text 9: <Text: The Man Who Was Thursday by G . K . Chesterton 1908>\n",
        "Concordance:\n",
        "Building index...\n",
        "No matches"
       ]
      },
      {
       "output_type": "stream",
       "stream": "stdout",
       "text": [
        "\n",
        "Similarity:\n",
        "Building word-context index...\n",
        "No matches"
       ]
      },
      {
       "output_type": "stream",
       "stream": "stdout",
       "text": [
        "\n"
       ]
      }
     ],
     "prompt_number": 8
    },
    {
     "cell_type": "code",
     "collapsed": false,
     "input": [
      "text1.common_contexts([\"whale\", \"size\"])"
     ],
     "language": "python",
     "metadata": {},
     "outputs": [
      {
       "output_type": "stream",
       "stream": "stdout",
       "text": [
        "the_of\n"
       ]
      }
     ],
     "prompt_number": 9
    },
    {
     "cell_type": "code",
     "collapsed": false,
     "input": [
      "ls = [\"how\", \"you\", \"I\", \"nice\", \"fun\",\n",
      "      \"drugs\", \"party\", \"sex\", \"*hugs*\",\n",
      "      \"cute\",\"night\",\"cunt\", \"sexy\", \"kiss\",\n",
      "      \"tell\", \"hehe\", \"cmon\", \"don't\", \"know\",\n",
      "      \"funny\", \"serious\", \"banging\", \"well\",\n",
      "      \"him\", \"her\", \"girl\", \"gal\", \"boy\"]\n",
      "text5.dispersion_plot(ls)"
     ],
     "language": "python",
     "metadata": {},
     "outputs": [
      {
       "metadata": {},
       "output_type": "display_data",
       "png": "[encoded data removed]",
       "text": [
        "<matplotlib.figure.Figure at 0xae05262c>"
       ]
      }
     ],
     "prompt_number": 4
    },
    {
     "cell_type": "code",
     "collapsed": false,
     "input": [
      "# text5.generate() # not in NLTK 3.0"
     ],
     "language": "python",
     "metadata": {},
     "outputs": [],
     "prompt_number": 11
    },
    {
     "cell_type": "heading",
     "level": 5,
     "metadata": {},
     "source": [
      "Tokens - Number of Words"
     ]
    },
    {
     "cell_type": "code",
     "collapsed": false,
     "input": [
      "len(text5)"
     ],
     "language": "python",
     "metadata": {},
     "outputs": [
      {
       "metadata": {},
       "output_type": "pyout",
       "prompt_number": 11,
       "text": [
        "45010"
       ]
      }
     ],
     "prompt_number": 11
    },
    {
     "cell_type": "heading",
     "level": 5,
     "metadata": {},
     "source": [
      "Types - Number of unique words"
     ]
    },
    {
     "cell_type": "code",
     "collapsed": false,
     "input": [
      "len(set(text5))"
     ],
     "language": "python",
     "metadata": {},
     "outputs": [
      {
       "metadata": {},
       "output_type": "pyout",
       "prompt_number": 13,
       "text": [
        "6066"
       ]
      }
     ],
     "prompt_number": 13
    },
    {
     "cell_type": "heading",
     "level": 5,
     "metadata": {},
     "source": [
      "Lexical Diversity"
     ]
    },
    {
     "cell_type": "code",
     "collapsed": false,
     "input": [
      "list(set(text5))[1200:1220]"
     ],
     "language": "python",
     "metadata": {},
     "outputs": [
      {
       "metadata": {},
       "output_type": "pyout",
       "prompt_number": 14,
       "text": [
        "[u'allow',\n",
        " u'standin',\n",
        " u'move',\n",
        " u'huuuuuuuuuuuuuuuuuuuuuuuuuuuuuuuuuuugZ',\n",
        " u'iamahotnip',\n",
        " u'perfect',\n",
        " u'degrees',\n",
        " u'cuss',\n",
        " u'louisianna',\n",
        " u'docs',\n",
        " u'nada',\n",
        " u'Hungry',\n",
        " u'bothering',\n",
        " u'kiss',\n",
        " u'nads',\n",
        " u'realize',\n",
        " u'San',\n",
        " u'sneezed',\n",
        " u'ohhhhhh',\n",
        " u'denzel']"
       ]
      }
     ],
     "prompt_number": 14
    },
    {
     "cell_type": "code",
     "collapsed": false,
     "input": [
      "def lexical_diversity(text):\n",
      "    return len(set(text))/float(len(text))"
     ],
     "language": "python",
     "metadata": {},
     "outputs": [],
     "prompt_number": 15
    },
    {
     "cell_type": "code",
     "collapsed": false,
     "input": [
      "lexical_diversity(text5)"
     ],
     "language": "python",
     "metadata": {},
     "outputs": [
      {
       "metadata": {},
       "output_type": "pyout",
       "prompt_number": 16,
       "text": [
        "0.13477005109975562"
       ]
      }
     ],
     "prompt_number": 16
    },
    {
     "cell_type": "code",
     "collapsed": false,
     "input": [
      "lexical_diversity(text1)"
     ],
     "language": "python",
     "metadata": {},
     "outputs": [
      {
       "metadata": {},
       "output_type": "pyout",
       "prompt_number": 17,
       "text": [
        "0.07406285585022564"
       ]
      }
     ],
     "prompt_number": 17
    },
    {
     "cell_type": "heading",
     "level": 5,
     "metadata": {},
     "source": [
      "Words"
     ]
    },
    {
     "cell_type": "code",
     "collapsed": false,
     "input": [
      "count = text5.count(\"lol\")\n",
      "print count"
     ],
     "language": "python",
     "metadata": {},
     "outputs": [
      {
       "output_type": "stream",
       "stream": "stdout",
       "text": [
        "704\n"
       ]
      }
     ],
     "prompt_number": 18
    },
    {
     "cell_type": "code",
     "collapsed": false,
     "input": [
      "count / float(len(text5))"
     ],
     "language": "python",
     "metadata": {},
     "outputs": [
      {
       "metadata": {},
       "output_type": "pyout",
       "prompt_number": 19,
       "text": [
        "0.015640968673628082"
       ]
      }
     ],
     "prompt_number": 19
    },
    {
     "cell_type": "code",
     "collapsed": false,
     "input": [
      "sent1 = [\"Call\", \"me\", \"Ishmael\", \".\"]"
     ],
     "language": "python",
     "metadata": {},
     "outputs": [],
     "prompt_number": 20
    },
    {
     "cell_type": "code",
     "collapsed": false,
     "input": [
      "sent1"
     ],
     "language": "python",
     "metadata": {},
     "outputs": [
      {
       "metadata": {},
       "output_type": "pyout",
       "prompt_number": 21,
       "text": [
        "['Call', 'me', 'Ishmael', '.']"
       ]
      }
     ],
     "prompt_number": 21
    },
    {
     "cell_type": "code",
     "collapsed": false,
     "input": [
      "\"Monty Python\".split()"
     ],
     "language": "python",
     "metadata": {},
     "outputs": [
      {
       "metadata": {},
       "output_type": "pyout",
       "prompt_number": 22,
       "text": [
        "['Monty', 'Python']"
       ]
      }
     ],
     "prompt_number": 22
    },
    {
     "cell_type": "code",
     "collapsed": false,
     "input": [
      "\", \".join([\"Monty\", \"Python\"])"
     ],
     "language": "python",
     "metadata": {},
     "outputs": [
      {
       "metadata": {},
       "output_type": "pyout",
       "prompt_number": 23,
       "text": [
        "'Monty, Python'"
       ]
      }
     ],
     "prompt_number": 23
    },
    {
     "cell_type": "code",
     "collapsed": false,
     "input": [
      "saying = ['After', 'all', 'is', 'said', 'and', 'done', 'more', 'is', 'said', 'than', 'done']"
     ],
     "language": "python",
     "metadata": {},
     "outputs": [],
     "prompt_number": 24
    },
    {
     "cell_type": "code",
     "collapsed": false,
     "input": [
      "tokens = sorted(set(saying))"
     ],
     "language": "python",
     "metadata": {},
     "outputs": [],
     "prompt_number": 25
    },
    {
     "cell_type": "code",
     "collapsed": false,
     "input": [
      "tokens[-2:]"
     ],
     "language": "python",
     "metadata": {},
     "outputs": [
      {
       "metadata": {},
       "output_type": "pyout",
       "prompt_number": 26,
       "text": [
        "['said', 'than']"
       ]
      }
     ],
     "prompt_number": 26
    },
    {
     "cell_type": "heading",
     "level": 5,
     "metadata": {},
     "source": [
      "Frequency Distributions"
     ]
    },
    {
     "cell_type": "code",
     "collapsed": true,
     "input": [
      "freq5 = FreqDist(text5)\n",
      "print freq5"
     ],
     "language": "python",
     "metadata": {},
     "outputs": [
      {
       "output_type": "stream",
       "stream": "stdout",
       "text": [
        "FreqDist({u'.': 1268, u'JOIN': 1021, u'PART': 1016, u'?': 737, u'lol': 704, u'to': 658, u'i': 648, u'the': 646, u'you': 635, u',': 596, ...})\n"
       ]
      }
     ],
     "prompt_number": 5
    },
    {
     "cell_type": "code",
     "collapsed": false,
     "input": [
      "freq5.most_common(50)"
     ],
     "language": "python",
     "metadata": {},
     "outputs": [
      {
       "metadata": {},
       "output_type": "pyout",
       "prompt_number": 6,
       "text": [
        "[(u'.', 1268),\n",
        " (u'JOIN', 1021),\n",
        " (u'PART', 1016),\n",
        " (u'?', 737),\n",
        " (u'lol', 704),\n",
        " (u'to', 658),\n",
        " (u'i', 648),\n",
        " (u'the', 646),\n",
        " (u'you', 635),\n",
        " (u',', 596),\n",
        " (u'I', 576),\n",
        " (u'a', 568),\n",
        " (u'hi', 546),\n",
        " (u'me', 415),\n",
        " (u'...', 412),\n",
        " (u'is', 372),\n",
        " (u'..', 361),\n",
        " (u'in', 357),\n",
        " (u'ACTION', 346),\n",
        " (u'!', 342),\n",
        " (u'and', 335),\n",
        " (u'it', 332),\n",
        " (u'that', 274),\n",
        " (u'hey', 264),\n",
        " (u'my', 242),\n",
        " (u'of', 202),\n",
        " (u'u', 200),\n",
        " (u\"'s\", 195),\n",
        " (u'for', 188),\n",
        " (u'on', 186),\n",
        " (u'what', 183),\n",
        " (u'here', 181),\n",
        " (u'are', 178),\n",
        " (u'not', 170),\n",
        " (u'....', 170),\n",
        " (u'do', 168),\n",
        " (u'all', 165),\n",
        " (u'have', 164),\n",
        " (u'up', 160),\n",
        " (u'like', 156),\n",
        " (u'no', 155),\n",
        " (u'with', 152),\n",
        " (u'chat', 142),\n",
        " (u'was', 142),\n",
        " (u\"n't\", 141),\n",
        " (u'so', 139),\n",
        " (u'your', 137),\n",
        " (u\"'m\", 133),\n",
        " (u'/', 133),\n",
        " (u'good', 130)]"
       ]
      }
     ],
     "prompt_number": 6
    },
    {
     "cell_type": "code",
     "collapsed": false,
     "input": [
      "freq5[\"nice\"]"
     ],
     "language": "python",
     "metadata": {},
     "outputs": [
      {
       "metadata": {},
       "output_type": "pyout",
       "prompt_number": 7,
       "text": [
        "52"
       ]
      }
     ],
     "prompt_number": 7
    },
    {
     "cell_type": "code",
     "collapsed": false,
     "input": [
      "freq5.plot(25)"
     ],
     "language": "python",
     "metadata": {},
     "outputs": [
      {
       "metadata": {},
       "output_type": "display_data",
       "png": "[encoded data removed]",
       "text": [
        "<matplotlib.figure.Figure at 0xad6ba38c>"
       ]
      }
     ],
     "prompt_number": 14
    },
    {
     "cell_type": "code",
     "collapsed": false,
     "input": [
      "freq5.plot(25, cumulative=True)"
     ],
     "language": "python",
     "metadata": {},
     "outputs": [
      {
       "metadata": {},
       "output_type": "display_data",
       "png": "[encoded data removed]",
       "text": [
        "<matplotlib.figure.Figure at 0xadfbb16c>"
       ]
      }
     ],
     "prompt_number": 9
    },
    {
     "cell_type": "heading",
     "level": 5,
     "metadata": {},
     "source": [
      "Fine grained selection of words"
     ]
    },
    {
     "cell_type": "code",
     "collapsed": false,
     "input": [
      "long_words = [w for w in set(text1) if len(w) > 15]"
     ],
     "language": "python",
     "metadata": {},
     "outputs": [],
     "prompt_number": 10
    },
    {
     "cell_type": "code",
     "collapsed": false,
     "input": [
      "sorted(long_words)"
     ],
     "language": "python",
     "metadata": {},
     "outputs": [
      {
       "metadata": {},
       "output_type": "pyout",
       "prompt_number": 11,
       "text": [
        "[u'CIRCUMNAVIGATION',\n",
        " u'Physiognomically',\n",
        " u'apprehensiveness',\n",
        " u'cannibalistically',\n",
        " u'characteristically',\n",
        " u'circumnavigating',\n",
        " u'circumnavigation',\n",
        " u'circumnavigations',\n",
        " u'comprehensiveness',\n",
        " u'hermaphroditical',\n",
        " u'indiscriminately',\n",
        " u'indispensableness',\n",
        " u'irresistibleness',\n",
        " u'physiognomically',\n",
        " u'preternaturalness',\n",
        " u'responsibilities',\n",
        " u'simultaneousness',\n",
        " u'subterraneousness',\n",
        " u'supernaturalness',\n",
        " u'superstitiousness',\n",
        " u'uncomfortableness',\n",
        " u'uncompromisedness',\n",
        " u'undiscriminating',\n",
        " u'uninterpenetratingly']"
       ]
      }
     ],
     "prompt_number": 11
    },
    {
     "cell_type": "code",
     "collapsed": false,
     "input": [],
     "language": "python",
     "metadata": {},
     "outputs": [],
     "prompt_number": 33
    },
    {
     "cell_type": "code",
     "collapsed": false,
     "input": [],
     "language": "python",
     "metadata": {},
     "outputs": [],
     "prompt_number": 33
    }
   ],
   "metadata": {}
  }
 ]
}